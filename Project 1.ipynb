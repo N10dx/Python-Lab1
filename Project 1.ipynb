{
 "cells": [
  {
   "cell_type": "markdown",
   "id": "ab44fd0a",
   "metadata": {},
   "source": [
    "# python"
   ]
  },
  {
   "cell_type": "code",
   "execution_count": 8,
   "id": "4d004fff",
   "metadata": {},
   "outputs": [
    {
     "name": "stdout",
     "output_type": "stream",
     "text": [
      "here we go here we go here we go 1 1.1 The winter is coming! 5 2\n"
     ]
    }
   ],
   "source": [
    "f=\"The winter is coming!\"\n",
    "a=1\n",
    "b=1.1\n",
    "c=d=e=\"here we go\"\n",
    "g,n=5,2\n",
    "print(c,d,e,a,b,f,g,n)"
   ]
  },
  {
   "cell_type": "code",
   "execution_count": null,
   "id": "8d27647b",
   "metadata": {},
   "outputs": [],
   "source": []
  }
 ],
 "metadata": {
  "kernelspec": {
   "display_name": "Python 3 (ipykernel)",
   "language": "python",
   "name": "python3"
  },
  "language_info": {
   "codemirror_mode": {
    "name": "ipython",
    "version": 3
   },
   "file_extension": ".py",
   "mimetype": "text/x-python",
   "name": "python",
   "nbconvert_exporter": "python",
   "pygments_lexer": "ipython3",
   "version": "3.9.13"
  }
 },
 "nbformat": 4,
 "nbformat_minor": 5
}
